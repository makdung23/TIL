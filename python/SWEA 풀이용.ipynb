{
 "cells": [
  {
   "cell_type": "markdown",
   "metadata": {},
   "source": [
    "### 2063. 올바른 날짜 판별하기"
   ]
  },
  {
   "cell_type": "code",
   "execution_count": 2,
   "metadata": {},
   "outputs": [
    {
     "name": "stdout",
     "output_type": "stream",
     "text": [
      "5\n",
      "22220228\n",
      "#1 2222/02/28\n",
      "20150002\n",
      "#2 -1\n",
      "01010101\n",
      "#3 0101/01/01\n",
      "20140230\n",
      "#4 -1\n",
      "11111111\n",
      "#5 1111/11/11\n"
     ]
    }
   ],
   "source": [
    "T = int(input())\n",
    "mth_31 = [1, 3, 5, 7, 8, 10, 12]\n",
    "\n",
    "for i in range(T):\n",
    "    date = input()\n",
    "    year, month, day = date[:4], date[4:6], date[6:]\n",
    "    valid = True\n",
    "\n",
    "    if int(month) not in range(1, 13) : \n",
    "        valid = False\n",
    "    \n",
    "    if int(month) == 2:\n",
    "        if int(day) > 28 :\n",
    "            valid = False\n",
    "\n",
    "    elif int(day) == 31 :\n",
    "        if int(month) not in mth_31 :\n",
    "            valid = False\n",
    "\n",
    "    elif int(day) not in range(1, 31) : \n",
    "        valid = False\n",
    "    \n",
    "\n",
    "    if valid == True :\n",
    "        print(f'#{i+1} {year}/{month}/{day}')\n",
    "    else : print(f'#{i+1} -1')"
   ]
  },
  {
   "cell_type": "markdown",
   "metadata": {},
   "source": [
    "### 2068. 최대수 구하기"
   ]
  },
  {
   "cell_type": "code",
   "execution_count": 3,
   "metadata": {},
   "outputs": [
    {
     "name": "stdout",
     "output_type": "stream",
     "text": [
      "3\n",
      "3 17 1 39 8 41 2 32 99 2\n",
      "#1 99\n",
      "22 8 5 123 7 2 63 7 3 46\n",
      "#2 123\n",
      "6 63 2 3 58 76 21 33 8 1   \n",
      "#3 76\n"
     ]
    }
   ],
   "source": [
    "T = int(input())\n",
    "for i in range(T) : \n",
    "    num_list = list(map(int, input().split()))\n",
    "    print(f'#{i+1} {max(num_list)}')"
   ]
  },
  {
   "cell_type": "markdown",
   "metadata": {},
   "source": [
    "### 2070. 큰 놈, 작은 놈, 같은 놈"
   ]
  },
  {
   "cell_type": "code",
   "execution_count": 4,
   "metadata": {},
   "outputs": [
    {
     "name": "stdout",
     "output_type": "stream",
     "text": [
      "3\n",
      "3 8\n",
      "#1 <\n",
      "7 7\n",
      "#2 =\n",
      "369 123\n",
      "#3 >\n"
     ]
    }
   ],
   "source": [
    "T = int(input())\n",
    "\n",
    "comp = ''\n",
    "for i in range(T):\n",
    "    a,b = map(int, input().split())\n",
    "    if (a<b) : print(f\"#{i+1} <\")\n",
    "    elif (a==b) : print(f\"#{i+1} =\")\n",
    "    else : print(f\"#{i+1} >\")"
   ]
  },
  {
   "cell_type": "markdown",
   "metadata": {},
   "source": [
    "### 2071. 평균값 구하기"
   ]
  },
  {
   "cell_type": "code",
   "execution_count": 7,
   "metadata": {},
   "outputs": [
    {
     "name": "stdout",
     "output_type": "stream",
     "text": [
      "3\n",
      "3 17 1 39 8 41 2 32 99 2\n",
      "#1 24\n",
      "22 8 5 123 7 2 63 7 3 46\n",
      "#2 29\n",
      "6 63 2 3 58 76 21 33 8 1   \n",
      "#3 27\n"
     ]
    }
   ],
   "source": [
    "T = int(input())\n",
    "\n",
    "for i in range(T):\n",
    "    num_list = list(map(int, input().split()))\n",
    "    print(f'#{i+1} {round(sum(num_list)/len(num_list))}')"
   ]
  },
  {
   "cell_type": "markdown",
   "metadata": {},
   "source": [
    "### 2072. 홀수만 더하기"
   ]
  },
  {
   "cell_type": "code",
   "execution_count": 10,
   "metadata": {},
   "outputs": [
    {
     "data": {
      "text/plain": [
       "[8, 2, 32, 2]"
      ]
     },
     "execution_count": 10,
     "metadata": {},
     "output_type": "execute_result"
    }
   ],
   "source": [
    "nlist = [3, 17, 1, 39, 8, 41, 2, 32, 99, 2]\n",
    "oddlist = [x for x in nlist if x%2 ==0 ]\n",
    "oddlist"
   ]
  },
  {
   "cell_type": "code",
   "execution_count": 15,
   "metadata": {},
   "outputs": [
    {
     "name": "stdout",
     "output_type": "stream",
     "text": [
      "3\n",
      "3 17 1 39 8 41 2 32 99 2\n",
      "#1 200\n",
      "22 8 5 123 7 2 63 7 3 46\n",
      "#2 208\n",
      "6 63 2 3 58 76 21 33 8 1   \n",
      "#3 121\n"
     ]
    }
   ],
   "source": [
    "T = int(input())\n",
    "\n",
    "for i in range(T):\n",
    "    nlist = list(map(int, input().split()))\n",
    "    print(f'#{i+1} {sum([x for x in nlist if x%2 == 1])}')"
   ]
  },
  {
   "cell_type": "markdown",
   "metadata": {},
   "source": [
    "### 1204. 최빈수 구하기"
   ]
  },
  {
   "cell_type": "code",
   "execution_count": 39,
   "metadata": {},
   "outputs": [
    {
     "name": "stdout",
     "output_type": "stream",
     "text": [
      "1\n",
      "1\n",
      "41 85 72 38 80 69 65 68 96 22 49 67 51 61 63 87 66 24 80 83 71 60 64 52 90 60 49 31 23 99 94 11 25 24 51 15 13 39 67 97 19 76 12 33 99 18 92 35 74 0 95 71 39 33 39 32 37 45 57 71 95 5 71 24 86 8 51 54 74 24 75 70 33 63 29 99 58 94 52 13 35 99 46 57 71 23 17 3 94 48 77 18 83 11 83 25 59 62 2 78 86 7 94 65 80 32 39 84 60 65 72 61 58 84 8 72 12 19 47 49 49 59 71 52 34 22 21 20 92 33 80 39 74 9 28 97 100 93 29 25 4 66 79 81 98 21 91 62 82 4 59 100 34 1 51 80 92 69 77 39 38 97 51 34 35 19 22 1 67 9 90 31 82 11 51 84 78 70 74 42 100 88 53 80 57 62 32 51 48 63 92 46 4 61 31 98 69 52 88 20 68 41 48 79 97 98 56 44 73 3 63 100 87 87 41 79 64 83 63 1 21 72 24 9 75 51 25 53 77 0 52 30 96 93 32 89 70 89 55 71 79 40 10 64 80 30 19 62 67 98 42 8 32 57 27 22 1 38 89 52 74 43 8 2 65 82 20 67 22 43 22 95 16 48 25 6 75 86 96 3 85 43 69 93 4 61 53 81 43 84 20 15 34 22 35 26 28 33 67 19 79 19 45 8 13 51 0 86 68 18 47 82 3 16 80 0 18 39 22 5 26 65 70 21 92 66 65 14 6 46 46 21 32 80 35 86 6 67 29 42 71 14 77 55 3 1 14 38 71 82 41 65 12 5 77 3 67 22 59 40 81 48 63 63 25 45 32 78 83 26 96 18 99 45 56 31 30 45 47 80 1 7 81 18 1 90 15 71 22 69 44 18 31 60 16 93 13 17 44 97 98 51 46 42 22 47 72 97 24 52 55 59 25 100 28 5 14 76 32 41 97 61 32 20 0 2 8 41 52 77 35 22 98 78 92 68 29 82 33 28 16 5 9 21 13 26 39 59 69 10 42 4 13 80 34 42 100 44 32 70 15 32 8 83 10 23 73 8 53 7 21 10 52 14 82 28 24 33 94 59 4 17 73 53 85 31 100 74 74 12 72 38 34 14 22 53 0 30 95 3 52 79 41 36 81 25 24 67 48 95 44 7 96 77 90 48 92 45 78 93 95 38 71 4 83 79 64 89 0 76 81 34 66 1 13 58 4 40 5 24 17 6 65 13 13 76 3 20 8 36 12 60 37 42 53 87 10 65 42 25 47 41 33 71 69 94 24 12 92 11 71 3 82 91 90 20 95 44 76 60 34 95 49 40 89 4 45 27 9 34 82 59 2 20 68 22 29 10 1 23 19 47 16 76 47 49 90 94 10 18 55 69 14 26 59 77 73 8 21 72 1 74 76 51 94 44 24 98 71 77 59 9 12 49 38 72 22 55 35 61 16 48 41 21 67 74 92 4 7 85 34 92 39 96 42 26 1 1 4 64 33 96 62 23 67 76 26 47 32 73 82 30 14 61 21 92 40 4 2 38 76 64 8 14 3 49 71 31 38 86 98 17 15 98 32 55 69 46 61 3 44 67 50 44 76 0 45 23 25 11 82 99 11 39 50 40 21 52 17 60 44 90 44 6 16 38 3 41 43 56 26 24 0 9 90 36 50 13 42 88 87 66 32 28 73 94 52 11 35 47 9 87 37 57 15 56 38 95 6 43 23 30 84 39 88 69 5 34 81 93 86 2 77 10 28 30 97 68 14 12 88 1 100 35 73 30 2 43 11 41 58 82 6 84 71 16 18 67 41 100 92 78 57 7 35 69 56 76 13 93 26 26 38 21 96 7 88 2 60 17 54 95 26 2 0 21 87 11 96 36 83 88 31 24 24 62 14 88 84 39 22 17 84 96 1 78 91 53 9 35 75 87 100 33 80 42 7 20 50 65 81 92 14 45 96 34 6 20 86 51 4 19 70 91 13 0 42 70 43 15 47 14 96 72 41 91 11 72 7 92 12 16 51 13 86 40 50 43 55 26 7 1 70 18 71 99 49 55 94 78 40 59 20 96 34 6 28 85 42 70 62 63 32 34 97 80 49 47 50 73 85 63 20 29 0 19 91 84 58 55 33 4 68 55 12 38 49 9 13 99 4 35 26 5 42 29 98 20 95 77 36 63 41 42 45 81 40 53 60 5 55 9 13 34 6 52 28 35 33 29 21 67 57 61 21 41 95 54 50 19 81 75 67 73 77 47 40 83 16 28\n",
      "#1 71\n"
     ]
    }
   ],
   "source": [
    "T = int(input())\n",
    "\n",
    "for i in range(T):\n",
    "    input()\n",
    "    score_list = list(map(int, input().split()))\n",
    "    count_dict = {}\n",
    "    for x in score_list :\n",
    "        if x not in count_dict : \n",
    "            count_dict[x] = 1\n",
    "        else : count_dict[x] += 1\n",
    "    print(f'#{i+1} {[k for k, v in count_dict.items() if v == max(count_dict.values())][0]}')"
   ]
  },
  {
   "cell_type": "markdown",
   "metadata": {},
   "source": [
    "### 1284. 수도요금 비교"
   ]
  },
  {
   "cell_type": "code",
   "execution_count": 41,
   "metadata": {},
   "outputs": [
    {
     "name": "stdout",
     "output_type": "stream",
     "text": [
      "2\n",
      "9 100 20 3 10\n",
      "#1 90\n",
      "8 300 100 10 250\n",
      "#2 1800\n"
     ]
    }
   ],
   "source": [
    "T = int(input())\n",
    "\n",
    "for i in range(T):\n",
    "    p, q, r, s, w = map(int, input().split())\n",
    "    \n",
    "    a = p*w\n",
    "    \n",
    "    if (w<r) : \n",
    "        b = q\n",
    "    else :\n",
    "        b = q + (w-r)*s\n",
    "\n",
    "    if a>b : \n",
    "        print(f'#{i+1} {b}')\n",
    "    else :\n",
    "        print(f'#{i+1} {a}')"
   ]
  },
  {
   "cell_type": "markdown",
   "metadata": {},
   "source": [
    "### 1288. 새로운 불면증 필요법"
   ]
  },
  {
   "cell_type": "code",
   "execution_count": 52,
   "metadata": {},
   "outputs": [
    {
     "name": "stdout",
     "output_type": "stream",
     "text": [
      "5\n",
      "1\n",
      "#1 10\n",
      "2\n",
      "#2 90\n",
      "10\n",
      "#3 90\n",
      "35\n",
      "#4 560\n",
      "1\n",
      "#5 10\n"
     ]
    }
   ],
   "source": [
    "T = int(input())\n",
    "\n",
    "for i in range(T):\n",
    "    k = int(input())\n",
    "    j = 1\n",
    "    checked = []\n",
    "    while len(checked) <10  :\n",
    "        for x in list(str(j*k)): \n",
    "            if int(x) not in checked : \n",
    "                checked.append(int(x))\n",
    "        j+=1\n",
    "    print(f'#{i+1} {(j-1)*k}')\n",
    "        "
   ]
  },
  {
   "cell_type": "code",
   "execution_count": 44,
   "metadata": {},
   "outputs": [
    {
     "data": {
      "text/plain": [
       "['hello']"
      ]
     },
     "execution_count": 44,
     "metadata": {},
     "output_type": "execute_result"
    }
   ],
   "source": [
    "1859\n",
    "1926\n",
    "1928\n",
    "1940"
   ]
  },
  {
   "cell_type": "markdown",
   "metadata": {},
   "source": [
    "### 1859. 백만장자 프로젝트"
   ]
  },
  {
   "cell_type": "code",
   "execution_count": null,
   "metadata": {
    "scrolled": false
   },
   "outputs": [],
   "source": [
    "import sys\n",
    "sys.stdin = open(\"input.txt\", \"r\")\n",
    "\n",
    "T = int(input())\n",
    "\n",
    "for i in range(T) : \n",
    "    input()\n",
    "    nlist = list(map(int, input().split()))\n",
    "    cost = 0 \n",
    "    count = 0\n",
    "    profit = 0\n",
    "    \n",
    "    for j in range(len(nlist)) : \n",
    "        if j!=len(nlist)-1 and nlist[j] < nlist[j+1] : # 오르막이면 무조건 사\n",
    "            count += 1\n",
    "            cost += nlist[j]\n",
    "        elif j!=len(nlist)-1 and nlist[j] >= nlist[j+1] : # 내리막이면 \n",
    "            # 파는 경우 : 극대점이고, 뒤에 자기보다 큰 지점이 없어\n",
    "            if j!=0 and nlist[j-1] < nlist[j] : \n",
    "                if nlist[j] > max(nlist[j+1:]) : \n",
    "                    profit += nlist[j]*count - cost\n",
    "                    cost = 0; count = 0\n",
    "                else : \n",
    "                    count += 1; cost += nlist[j]\n",
    "            # 사는 경우 : 뒤에 자기보다 큰 지점이 있어\n",
    "            elif nlist[j] < max(nlist[j+1:]) :\n",
    "                count += 1; cost += nlist[j]\n",
    "            else : pass\n",
    "\n",
    "        elif j==len(nlist)-1 :\n",
    "            if cost>0 :\n",
    "                profit += nlist[j]*count - cost\n",
    "                cost = 0; count = 0\n",
    "    print(f'#{i+1} {profit}')"
   ]
  },
  {
   "cell_type": "code",
   "execution_count": 88,
   "metadata": {},
   "outputs": [
    {
     "name": "stdout",
     "output_type": "stream",
     "text": [
      "#1 4053\n",
      "#2 6385\n",
      "#3 26725\n",
      "#4 211514\n",
      "#5 4848198\n",
      "#6 49761546\n",
      "#7 500155606\n"
     ]
    },
    {
     "ename": "KeyboardInterrupt",
     "evalue": "",
     "output_type": "error",
     "traceback": [
      "\u001b[1;31m---------------------------------------------------------------------------\u001b[0m",
      "\u001b[1;31mKeyboardInterrupt\u001b[0m                         Traceback (most recent call last)",
      "\u001b[1;32m<ipython-input-88-89c3dd84b29e>\u001b[0m in \u001b[0;36m<module>\u001b[1;34m\u001b[0m\n\u001b[0;32m     18\u001b[0m             \u001b[1;31m# 파는 경우 : 극대점이고, 뒤에 자기보다 큰 지점이 없어\u001b[0m\u001b[1;33m\u001b[0m\u001b[1;33m\u001b[0m\u001b[1;33m\u001b[0m\u001b[0m\n\u001b[0;32m     19\u001b[0m             \u001b[1;32mif\u001b[0m \u001b[0mj\u001b[0m\u001b[1;33m!=\u001b[0m\u001b[1;36m0\u001b[0m \u001b[1;32mand\u001b[0m \u001b[0mnlist\u001b[0m\u001b[1;33m[\u001b[0m\u001b[0mj\u001b[0m\u001b[1;33m-\u001b[0m\u001b[1;36m1\u001b[0m\u001b[1;33m]\u001b[0m \u001b[1;33m<\u001b[0m \u001b[0mnlist\u001b[0m\u001b[1;33m[\u001b[0m\u001b[0mj\u001b[0m\u001b[1;33m]\u001b[0m \u001b[1;33m:\u001b[0m\u001b[1;33m\u001b[0m\u001b[1;33m\u001b[0m\u001b[0m\n\u001b[1;32m---> 20\u001b[1;33m                 \u001b[1;32mif\u001b[0m \u001b[0mnlist\u001b[0m\u001b[1;33m[\u001b[0m\u001b[0mj\u001b[0m\u001b[1;33m]\u001b[0m \u001b[1;33m>\u001b[0m \u001b[0mmax\u001b[0m\u001b[1;33m(\u001b[0m\u001b[0mnlist\u001b[0m\u001b[1;33m[\u001b[0m\u001b[0mj\u001b[0m\u001b[1;33m+\u001b[0m\u001b[1;36m1\u001b[0m\u001b[1;33m:\u001b[0m\u001b[1;33m]\u001b[0m\u001b[1;33m)\u001b[0m \u001b[1;33m:\u001b[0m\u001b[1;33m\u001b[0m\u001b[1;33m\u001b[0m\u001b[0m\n\u001b[0m\u001b[0;32m     21\u001b[0m                     \u001b[0mprofit\u001b[0m \u001b[1;33m+=\u001b[0m \u001b[0mnlist\u001b[0m\u001b[1;33m[\u001b[0m\u001b[0mj\u001b[0m\u001b[1;33m]\u001b[0m\u001b[1;33m*\u001b[0m\u001b[0mcount\u001b[0m \u001b[1;33m-\u001b[0m \u001b[0mcost\u001b[0m\u001b[1;33m\u001b[0m\u001b[1;33m\u001b[0m\u001b[0m\n\u001b[0;32m     22\u001b[0m                     \u001b[0mcost\u001b[0m \u001b[1;33m=\u001b[0m \u001b[1;36m0\u001b[0m\u001b[1;33m;\u001b[0m \u001b[0mcount\u001b[0m \u001b[1;33m=\u001b[0m \u001b[1;36m0\u001b[0m\u001b[1;33m\u001b[0m\u001b[1;33m\u001b[0m\u001b[0m\n",
      "\u001b[1;31mKeyboardInterrupt\u001b[0m: "
     ]
    }
   ],
   "source": [
    "import sys\n",
    "sys.stdin = open(\"input1.txt\", \"r\")\n",
    "\n",
    "T = int(sys.stdin.readline())\n",
    "\n",
    "for i in range(T) : \n",
    "    sys.stdin.readline()\n",
    "    nlist = list(map(int, sys.stdin.readline().split()))\n",
    "    cost = 0 \n",
    "    count = 0\n",
    "    profit = 0\n",
    "    \n",
    "    for j in range(len(nlist)) : \n",
    "        if j!=len(nlist)-1 and nlist[j] < nlist[j+1] : # 오르막이면 무조건 사\n",
    "            count += 1\n",
    "            cost += nlist[j]\n",
    "        \n",
    "        elif j!=len(nlist)-1 and nlist[j] >= nlist[j+1] : # 내리막이면 \n",
    "            # 파는 경우 : 극대점이고, 뒤에 자기보다 큰 지점이 없어\n",
    "            if j!=0 and nlist[j-1] < nlist[j] : \n",
    "                if nlist[j] > max(nlist[j+1:]) : \n",
    "                    profit += nlist[j]*count - cost\n",
    "                    cost = 0; count = 0\n",
    "                else : \n",
    "                    count += 1; cost += nlist[j]\n",
    "            # 사는 경우 : 뒤에 자기보다 큰 지점이 있어\n",
    "            elif nlist[j] < max(nlist[j+1:]) :\n",
    "                count += 1; cost += nlist[j]\n",
    "            else : pass\n",
    "\n",
    "        elif j==len(nlist)-1 :\n",
    "            if cost>0 :\n",
    "                profit += nlist[j]*count - cost\n",
    "                cost = 0; count = 0\n",
    "    print(f'#{i+1} {profit}')"
   ]
  },
  {
   "cell_type": "code",
   "execution_count": 99,
   "metadata": {},
   "outputs": [
    {
     "name": "stdout",
     "output_type": "stream",
     "text": [
      "#1 4053\n",
      "#2 6385\n",
      "#3 26725\n",
      "#4 211514\n",
      "#5 4848198\n",
      "#6 49761546\n",
      "#7 500155606\n"
     ]
    },
    {
     "ename": "KeyboardInterrupt",
     "evalue": "",
     "output_type": "error",
     "traceback": [
      "\u001b[1;31m---------------------------------------------------------------------------\u001b[0m",
      "\u001b[1;31mKeyboardInterrupt\u001b[0m                         Traceback (most recent call last)",
      "\u001b[1;32m<ipython-input-99-3da2e6a561c8>\u001b[0m in \u001b[0;36m<module>\u001b[1;34m\u001b[0m\n\u001b[0;32m     21\u001b[0m             \u001b[1;32melse\u001b[0m \u001b[1;33m:\u001b[0m \u001b[1;31m# 내리막이면\u001b[0m\u001b[1;33m\u001b[0m\u001b[1;33m\u001b[0m\u001b[0m\n\u001b[0;32m     22\u001b[0m                 \u001b[1;32mif\u001b[0m \u001b[0mnlist\u001b[0m\u001b[1;33m[\u001b[0m\u001b[0mj\u001b[0m\u001b[1;33m]\u001b[0m \u001b[1;33m<\u001b[0m \u001b[0mmax\u001b[0m\u001b[1;33m(\u001b[0m\u001b[0mnlist\u001b[0m\u001b[1;33m[\u001b[0m\u001b[0mj\u001b[0m\u001b[1;33m+\u001b[0m\u001b[1;36m1\u001b[0m\u001b[1;33m:\u001b[0m\u001b[1;33m]\u001b[0m\u001b[1;33m)\u001b[0m\u001b[1;33m:\u001b[0m \u001b[1;31m# 내 뒤에 나보다 큰 애가 있으면 사\u001b[0m\u001b[1;33m\u001b[0m\u001b[1;33m\u001b[0m\u001b[0m\n\u001b[1;32m---> 23\u001b[1;33m                     \u001b[0mcount\u001b[0m \u001b[1;33m+=\u001b[0m \u001b[1;36m1\u001b[0m\u001b[1;33m\u001b[0m\u001b[1;33m\u001b[0m\u001b[0m\n\u001b[0m\u001b[0;32m     24\u001b[0m                     \u001b[0mcost\u001b[0m \u001b[1;33m+=\u001b[0m \u001b[0mnlist\u001b[0m\u001b[1;33m[\u001b[0m\u001b[0mj\u001b[0m\u001b[1;33m]\u001b[0m\u001b[1;33m\u001b[0m\u001b[1;33m\u001b[0m\u001b[0m\n\u001b[0;32m     25\u001b[0m                 \u001b[1;32melif\u001b[0m \u001b[0mj\u001b[0m\u001b[1;33m!=\u001b[0m\u001b[1;36m0\u001b[0m \u001b[1;32mand\u001b[0m \u001b[0mnlist\u001b[0m\u001b[1;33m[\u001b[0m\u001b[0mj\u001b[0m\u001b[1;33m-\u001b[0m\u001b[1;36m1\u001b[0m\u001b[1;33m]\u001b[0m \u001b[1;33m<\u001b[0m \u001b[0mnlist\u001b[0m\u001b[1;33m[\u001b[0m\u001b[0mj\u001b[0m\u001b[1;33m]\u001b[0m \u001b[1;33m:\u001b[0m\u001b[1;31m#내 뒤에 나보다 큰 애 없는데 내가 극대값이면 팔아\u001b[0m\u001b[1;33m\u001b[0m\u001b[1;33m\u001b[0m\u001b[0m\n",
      "\u001b[1;31mKeyboardInterrupt\u001b[0m: "
     ]
    }
   ],
   "source": [
    "import sys\n",
    "\n",
    "sys.stdin = open(\"input1.txt\", \"r\")\n",
    "\n",
    "T = int(sys.stdin.readline())\n",
    "\n",
    "for i in range(T) : \n",
    "    sys.stdin.readline()\n",
    "    nlist = list(map(int, sys.stdin.readline().split()))\n",
    "    cost = 0 \n",
    "    count = 0\n",
    "    profit = 0\n",
    "    \n",
    "    for j in range(len(nlist)):\n",
    "        if j==len(nlist)-1: # 마지막 인덱스에서는 다 처리\n",
    "            profit += nlist[j]*count - cost\n",
    "        else : # 마지막 인덱스가 아닌 경우\n",
    "            if nlist[j] < nlist[j+1]: # 오르막이면 무조건 사\n",
    "                count+= 1\n",
    "                cost += nlist[j]\n",
    "            else : # 내리막이면\n",
    "                if nlist[j] < max(nlist[j+1:]): # 내 뒤에 나보다 큰 애가 있으면 사\n",
    "                    count += 1\n",
    "                    cost += nlist[j]\n",
    "                elif j!=0 and nlist[j-1] < nlist[j] :#내 뒤에 나보다 큰 애 없는데 내가 극대값이면 팔아\n",
    "                    profit += nlist[j]*count - cost\n",
    "                    cost = 0; count = 0\n",
    "                    \n",
    "    print(f'#{i+1} {profit}')"
   ]
  },
  {
   "cell_type": "code",
   "execution_count": null,
   "metadata": {},
   "outputs": [
    {
     "name": "stdout",
     "output_type": "stream",
     "text": [
      "#1 4053\n",
      "#2 6385\n",
      "#3 26725\n",
      "#4 211514\n",
      "#5 4848198\n",
      "#6 49761546\n",
      "#7 500155606\n"
     ]
    }
   ],
   "source": [
    "import sys\n",
    "\n",
    "sys.stdin = open(\"input1.txt\", \"r\")\n",
    "\n",
    "T = int(sys.stdin.readline())\n",
    "\n",
    "for i in range(T) : \n",
    "    listlen = int(sys.stdin.readline())\n",
    "    nlist = list(map(int, sys.stdin.readline().split()))\n",
    "    cost = 0; count = 0; profit = 0    \n",
    "    \n",
    "    for j in range(listlen):\n",
    "        if j==listlen-1: # 맨뒤\n",
    "            profit += nlist[j]*count - cost\n",
    "        elif nlist[j] < nlist[j+1]: # 오르막\n",
    "            count+=1; cost += nlist[j]\n",
    "        elif nlist[j]<max(nlist[j+1:]): # 내리막인데 뒤에 한놈이라도 나보다 크면 => 이부분이 미친 복잡도.. \n",
    "            count+=1; cost += nlist[j]\n",
    "        elif j!=0 and nlist[j-1] < nlist[j] :#내 뒤에 나보다 큰 애 없는데 내가 극대값이면 팔아\n",
    "            profit += nlist[j]*count - cost\n",
    "            cost = 0; count = 0\n",
    "                    \n",
    "    print(f'#{i+1} {profit}')\n",
    "    \n",
    "    #letter == 't' for letter in 'monty'"
   ]
  },
  {
   "cell_type": "code",
   "execution_count": null,
   "metadata": {},
   "outputs": [],
   "source": []
  }
 ],
 "metadata": {
  "kernelspec": {
   "display_name": "Python 3",
   "language": "python",
   "name": "python3"
  }
 },
 "nbformat": 4,
 "nbformat_minor": 4
}
