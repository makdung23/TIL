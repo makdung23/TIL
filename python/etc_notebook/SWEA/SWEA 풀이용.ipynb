{
 "cells": [
  {
   "cell_type": "markdown",
   "metadata": {},
   "source": [
    "### 2063. 올바른 날짜 판별하기"
   ]
  },
  {
   "cell_type": "code",
   "execution_count": 2,
   "metadata": {},
   "outputs": [
    {
     "name": "stdout",
     "output_type": "stream",
     "text": [
      "5\n",
      "22220228\n",
      "#1 2222/02/28\n",
      "20150002\n",
      "#2 -1\n",
      "01010101\n",
      "#3 0101/01/01\n",
      "20140230\n",
      "#4 -1\n",
      "11111111\n",
      "#5 1111/11/11\n"
     ]
    }
   ],
   "source": [
    "T = int(input())\n",
    "mth_31 = [1, 3, 5, 7, 8, 10, 12]\n",
    "\n",
    "for i in range(T):\n",
    "    date = input()\n",
    "    year, month, day = date[:4], date[4:6], date[6:]\n",
    "    valid = True\n",
    "\n",
    "    if int(month) not in range(1, 13) : \n",
    "        valid = False\n",
    "    \n",
    "    if int(month) == 2:\n",
    "        if int(day) > 28 :\n",
    "            valid = False\n",
    "\n",
    "    elif int(day) == 31 :\n",
    "        if int(month) not in mth_31 :\n",
    "            valid = False\n",
    "\n",
    "    elif int(day) not in range(1, 31) : \n",
    "        valid = False\n",
    "    \n",
    "\n",
    "    if valid == True :\n",
    "        print(f'#{i+1} {year}/{month}/{day}')\n",
    "    else : print(f'#{i+1} -1')"
   ]
  },
  {
   "cell_type": "markdown",
   "metadata": {},
   "source": [
    "### 2068. 최대수 구하기"
   ]
  },
  {
   "cell_type": "code",
   "execution_count": 3,
   "metadata": {},
   "outputs": [
    {
     "name": "stdout",
     "output_type": "stream",
     "text": [
      "3\n",
      "3 17 1 39 8 41 2 32 99 2\n",
      "#1 99\n",
      "22 8 5 123 7 2 63 7 3 46\n",
      "#2 123\n",
      "6 63 2 3 58 76 21 33 8 1   \n",
      "#3 76\n"
     ]
    }
   ],
   "source": [
    "T = int(input())\n",
    "for i in range(T) : \n",
    "    num_list = list(map(int, input().split()))\n",
    "    print(f'#{i+1} {max(num_list)}')"
   ]
  },
  {
   "cell_type": "markdown",
   "metadata": {},
   "source": [
    "### 2070. 큰 놈, 작은 놈, 같은 놈"
   ]
  },
  {
   "cell_type": "code",
   "execution_count": 4,
   "metadata": {},
   "outputs": [
    {
     "name": "stdout",
     "output_type": "stream",
     "text": [
      "3\n",
      "3 8\n",
      "#1 <\n",
      "7 7\n",
      "#2 =\n",
      "369 123\n",
      "#3 >\n"
     ]
    }
   ],
   "source": [
    "T = int(input())\n",
    "\n",
    "comp = ''\n",
    "for i in range(T):\n",
    "    a,b = map(int, input().split())\n",
    "    if (a<b) : print(f\"#{i+1} <\")\n",
    "    elif (a==b) : print(f\"#{i+1} =\")\n",
    "    else : print(f\"#{i+1} >\")"
   ]
  },
  {
   "cell_type": "markdown",
   "metadata": {},
   "source": [
    "### 2071. 평균값 구하기"
   ]
  },
  {
   "cell_type": "code",
   "execution_count": 7,
   "metadata": {},
   "outputs": [
    {
     "name": "stdout",
     "output_type": "stream",
     "text": [
      "3\n",
      "3 17 1 39 8 41 2 32 99 2\n",
      "#1 24\n",
      "22 8 5 123 7 2 63 7 3 46\n",
      "#2 29\n",
      "6 63 2 3 58 76 21 33 8 1   \n",
      "#3 27\n"
     ]
    }
   ],
   "source": [
    "T = int(input())\n",
    "\n",
    "for i in range(T):\n",
    "    num_list = list(map(int, input().split()))\n",
    "    print(f'#{i+1} {round(sum(num_list)/len(num_list))}')"
   ]
  },
  {
   "cell_type": "markdown",
   "metadata": {},
   "source": [
    "### 2072. 홀수만 더하기"
   ]
  },
  {
   "cell_type": "code",
   "execution_count": 10,
   "metadata": {},
   "outputs": [
    {
     "data": {
      "text/plain": [
       "[8, 2, 32, 2]"
      ]
     },
     "execution_count": 10,
     "metadata": {},
     "output_type": "execute_result"
    }
   ],
   "source": [
    "nlist = [3, 17, 1, 39, 8, 41, 2, 32, 99, 2]\n",
    "oddlist = [x for x in nlist if x%2 ==0 ]\n",
    "oddlist"
   ]
  },
  {
   "cell_type": "code",
   "execution_count": 15,
   "metadata": {},
   "outputs": [
    {
     "name": "stdout",
     "output_type": "stream",
     "text": [
      "3\n",
      "3 17 1 39 8 41 2 32 99 2\n",
      "#1 200\n",
      "22 8 5 123 7 2 63 7 3 46\n",
      "#2 208\n",
      "6 63 2 3 58 76 21 33 8 1   \n",
      "#3 121\n"
     ]
    }
   ],
   "source": [
    "T = int(input())\n",
    "\n",
    "for i in range(T):\n",
    "    nlist = list(map(int, input().split()))\n",
    "    print(f'#{i+1} {sum([x for x in nlist if x%2 == 1])}')"
   ]
  },
  {
   "cell_type": "markdown",
   "metadata": {},
   "source": [
    "### 1204. 최빈수 구하기"
   ]
  },
  {
   "cell_type": "code",
   "execution_count": 39,
   "metadata": {},
   "outputs": [
    {
     "name": "stdout",
     "output_type": "stream",
     "text": [
      "1\n",
      "1\n",
      "41 85 72 38 80 69 65 68 96 22 49 67 51 61 63 87 66 24 80 83 71 60 64 52 90 60 49 31 23 99 94 11 25 24 51 15 13 39 67 97 19 76 12 33 99 18 92 35 74 0 95 71 39 33 39 32 37 45 57 71 95 5 71 24 86 8 51 54 74 24 75 70 33 63 29 99 58 94 52 13 35 99 46 57 71 23 17 3 94 48 77 18 83 11 83 25 59 62 2 78 86 7 94 65 80 32 39 84 60 65 72 61 58 84 8 72 12 19 47 49 49 59 71 52 34 22 21 20 92 33 80 39 74 9 28 97 100 93 29 25 4 66 79 81 98 21 91 62 82 4 59 100 34 1 51 80 92 69 77 39 38 97 51 34 35 19 22 1 67 9 90 31 82 11 51 84 78 70 74 42 100 88 53 80 57 62 32 51 48 63 92 46 4 61 31 98 69 52 88 20 68 41 48 79 97 98 56 44 73 3 63 100 87 87 41 79 64 83 63 1 21 72 24 9 75 51 25 53 77 0 52 30 96 93 32 89 70 89 55 71 79 40 10 64 80 30 19 62 67 98 42 8 32 57 27 22 1 38 89 52 74 43 8 2 65 82 20 67 22 43 22 95 16 48 25 6 75 86 96 3 85 43 69 93 4 61 53 81 43 84 20 15 34 22 35 26 28 33 67 19 79 19 45 8 13 51 0 86 68 18 47 82 3 16 80 0 18 39 22 5 26 65 70 21 92 66 65 14 6 46 46 21 32 80 35 86 6 67 29 42 71 14 77 55 3 1 14 38 71 82 41 65 12 5 77 3 67 22 59 40 81 48 63 63 25 45 32 78 83 26 96 18 99 45 56 31 30 45 47 80 1 7 81 18 1 90 15 71 22 69 44 18 31 60 16 93 13 17 44 97 98 51 46 42 22 47 72 97 24 52 55 59 25 100 28 5 14 76 32 41 97 61 32 20 0 2 8 41 52 77 35 22 98 78 92 68 29 82 33 28 16 5 9 21 13 26 39 59 69 10 42 4 13 80 34 42 100 44 32 70 15 32 8 83 10 23 73 8 53 7 21 10 52 14 82 28 24 33 94 59 4 17 73 53 85 31 100 74 74 12 72 38 34 14 22 53 0 30 95 3 52 79 41 36 81 25 24 67 48 95 44 7 96 77 90 48 92 45 78 93 95 38 71 4 83 79 64 89 0 76 81 34 66 1 13 58 4 40 5 24 17 6 65 13 13 76 3 20 8 36 12 60 37 42 53 87 10 65 42 25 47 41 33 71 69 94 24 12 92 11 71 3 82 91 90 20 95 44 76 60 34 95 49 40 89 4 45 27 9 34 82 59 2 20 68 22 29 10 1 23 19 47 16 76 47 49 90 94 10 18 55 69 14 26 59 77 73 8 21 72 1 74 76 51 94 44 24 98 71 77 59 9 12 49 38 72 22 55 35 61 16 48 41 21 67 74 92 4 7 85 34 92 39 96 42 26 1 1 4 64 33 96 62 23 67 76 26 47 32 73 82 30 14 61 21 92 40 4 2 38 76 64 8 14 3 49 71 31 38 86 98 17 15 98 32 55 69 46 61 3 44 67 50 44 76 0 45 23 25 11 82 99 11 39 50 40 21 52 17 60 44 90 44 6 16 38 3 41 43 56 26 24 0 9 90 36 50 13 42 88 87 66 32 28 73 94 52 11 35 47 9 87 37 57 15 56 38 95 6 43 23 30 84 39 88 69 5 34 81 93 86 2 77 10 28 30 97 68 14 12 88 1 100 35 73 30 2 43 11 41 58 82 6 84 71 16 18 67 41 100 92 78 57 7 35 69 56 76 13 93 26 26 38 21 96 7 88 2 60 17 54 95 26 2 0 21 87 11 96 36 83 88 31 24 24 62 14 88 84 39 22 17 84 96 1 78 91 53 9 35 75 87 100 33 80 42 7 20 50 65 81 92 14 45 96 34 6 20 86 51 4 19 70 91 13 0 42 70 43 15 47 14 96 72 41 91 11 72 7 92 12 16 51 13 86 40 50 43 55 26 7 1 70 18 71 99 49 55 94 78 40 59 20 96 34 6 28 85 42 70 62 63 32 34 97 80 49 47 50 73 85 63 20 29 0 19 91 84 58 55 33 4 68 55 12 38 49 9 13 99 4 35 26 5 42 29 98 20 95 77 36 63 41 42 45 81 40 53 60 5 55 9 13 34 6 52 28 35 33 29 21 67 57 61 21 41 95 54 50 19 81 75 67 73 77 47 40 83 16 28\n",
      "#1 71\n"
     ]
    }
   ],
   "source": [
    "T = int(input())\n",
    "\n",
    "for i in range(T):\n",
    "    input()\n",
    "    score_list = list(map(int, input().split()))\n",
    "    count_dict = {}\n",
    "    for x in score_list :\n",
    "        if x not in count_dict : \n",
    "            count_dict[x] = 1\n",
    "        else : count_dict[x] += 1\n",
    "    print(f'#{i+1} {[k for k, v in count_dict.items() if v == max(count_dict.values())][0]}')"
   ]
  },
  {
   "cell_type": "markdown",
   "metadata": {},
   "source": [
    "### 1284. 수도요금 비교"
   ]
  },
  {
   "cell_type": "code",
   "execution_count": 41,
   "metadata": {},
   "outputs": [
    {
     "name": "stdout",
     "output_type": "stream",
     "text": [
      "2\n",
      "9 100 20 3 10\n",
      "#1 90\n",
      "8 300 100 10 250\n",
      "#2 1800\n"
     ]
    }
   ],
   "source": [
    "T = int(input())\n",
    "\n",
    "for i in range(T):\n",
    "    p, q, r, s, w = map(int, input().split())\n",
    "    \n",
    "    a = p*w\n",
    "    \n",
    "    if (w<r) : \n",
    "        b = q\n",
    "    else :\n",
    "        b = q + (w-r)*s\n",
    "\n",
    "    if a>b : \n",
    "        print(f'#{i+1} {b}')\n",
    "    else :\n",
    "        print(f'#{i+1} {a}')"
   ]
  },
  {
   "cell_type": "markdown",
   "metadata": {},
   "source": [
    "### 1288. 새로운 불면증 필요법"
   ]
  },
  {
   "cell_type": "code",
   "execution_count": 52,
   "metadata": {},
   "outputs": [
    {
     "name": "stdout",
     "output_type": "stream",
     "text": [
      "5\n",
      "1\n",
      "#1 10\n",
      "2\n",
      "#2 90\n",
      "10\n",
      "#3 90\n",
      "35\n",
      "#4 560\n",
      "1\n",
      "#5 10\n"
     ]
    }
   ],
   "source": [
    "T = int(input())\n",
    "\n",
    "for i in range(T):\n",
    "    k = int(input())\n",
    "    j = 1\n",
    "    checked = []\n",
    "    while len(checked) <10  :\n",
    "        for x in list(str(j*k)): \n",
    "            if int(x) not in checked : \n",
    "                checked.append(int(x))\n",
    "        j+=1\n",
    "    print(f'#{i+1} {(j-1)*k}')\n",
    "        "
   ]
  },
  {
   "cell_type": "markdown",
   "metadata": {},
   "source": [
    "### 1859. 백만장자 프로젝트"
   ]
  },
  {
   "cell_type": "code",
   "execution_count": null,
   "metadata": {
    "scrolled": false
   },
   "outputs": [],
   "source": [
    "import sys\n",
    "sys.stdin = open(\"input.txt\", \"r\")\n",
    "\n",
    "T = int(input())\n",
    "\n",
    "for i in range(T) : \n",
    "    input()\n",
    "    nlist = list(map(int, input().split()))\n",
    "    cost = 0 \n",
    "    count = 0\n",
    "    profit = 0\n",
    "    \n",
    "    for j in range(len(nlist)) : \n",
    "        if j!=len(nlist)-1 and nlist[j] < nlist[j+1] : # 오르막이면 무조건 사\n",
    "            count += 1\n",
    "            cost += nlist[j]\n",
    "        elif j!=len(nlist)-1 and nlist[j] >= nlist[j+1] : # 내리막이면 \n",
    "            # 파는 경우 : 극대점이고, 뒤에 자기보다 큰 지점이 없어\n",
    "            if j!=0 and nlist[j-1] < nlist[j] : \n",
    "                if nlist[j] > max(nlist[j+1:]) : \n",
    "                    profit += nlist[j]*count - cost\n",
    "                    cost = 0; count = 0\n",
    "                else : \n",
    "                    count += 1; cost += nlist[j]\n",
    "            # 사는 경우 : 뒤에 자기보다 큰 지점이 있어\n",
    "            elif nlist[j] < max(nlist[j+1:]) :\n",
    "                count += 1; cost += nlist[j]\n",
    "            else : pass\n",
    "\n",
    "        elif j==len(nlist)-1 :\n",
    "            if cost>0 :\n",
    "                profit += nlist[j]*count - cost\n",
    "                cost = 0; count = 0\n",
    "    print(f'#{i+1} {profit}')"
   ]
  },
  {
   "cell_type": "code",
   "execution_count": 88,
   "metadata": {},
   "outputs": [
    {
     "name": "stdout",
     "output_type": "stream",
     "text": [
      "#1 4053\n",
      "#2 6385\n",
      "#3 26725\n",
      "#4 211514\n",
      "#5 4848198\n",
      "#6 49761546\n",
      "#7 500155606\n"
     ]
    },
    {
     "ename": "KeyboardInterrupt",
     "evalue": "",
     "output_type": "error",
     "traceback": [
      "\u001b[1;31m---------------------------------------------------------------------------\u001b[0m",
      "\u001b[1;31mKeyboardInterrupt\u001b[0m                         Traceback (most recent call last)",
      "\u001b[1;32m<ipython-input-88-89c3dd84b29e>\u001b[0m in \u001b[0;36m<module>\u001b[1;34m\u001b[0m\n\u001b[0;32m     18\u001b[0m             \u001b[1;31m# 파는 경우 : 극대점이고, 뒤에 자기보다 큰 지점이 없어\u001b[0m\u001b[1;33m\u001b[0m\u001b[1;33m\u001b[0m\u001b[1;33m\u001b[0m\u001b[0m\n\u001b[0;32m     19\u001b[0m             \u001b[1;32mif\u001b[0m \u001b[0mj\u001b[0m\u001b[1;33m!=\u001b[0m\u001b[1;36m0\u001b[0m \u001b[1;32mand\u001b[0m \u001b[0mnlist\u001b[0m\u001b[1;33m[\u001b[0m\u001b[0mj\u001b[0m\u001b[1;33m-\u001b[0m\u001b[1;36m1\u001b[0m\u001b[1;33m]\u001b[0m \u001b[1;33m<\u001b[0m \u001b[0mnlist\u001b[0m\u001b[1;33m[\u001b[0m\u001b[0mj\u001b[0m\u001b[1;33m]\u001b[0m \u001b[1;33m:\u001b[0m\u001b[1;33m\u001b[0m\u001b[1;33m\u001b[0m\u001b[0m\n\u001b[1;32m---> 20\u001b[1;33m                 \u001b[1;32mif\u001b[0m \u001b[0mnlist\u001b[0m\u001b[1;33m[\u001b[0m\u001b[0mj\u001b[0m\u001b[1;33m]\u001b[0m \u001b[1;33m>\u001b[0m \u001b[0mmax\u001b[0m\u001b[1;33m(\u001b[0m\u001b[0mnlist\u001b[0m\u001b[1;33m[\u001b[0m\u001b[0mj\u001b[0m\u001b[1;33m+\u001b[0m\u001b[1;36m1\u001b[0m\u001b[1;33m:\u001b[0m\u001b[1;33m]\u001b[0m\u001b[1;33m)\u001b[0m \u001b[1;33m:\u001b[0m\u001b[1;33m\u001b[0m\u001b[1;33m\u001b[0m\u001b[0m\n\u001b[0m\u001b[0;32m     21\u001b[0m                     \u001b[0mprofit\u001b[0m \u001b[1;33m+=\u001b[0m \u001b[0mnlist\u001b[0m\u001b[1;33m[\u001b[0m\u001b[0mj\u001b[0m\u001b[1;33m]\u001b[0m\u001b[1;33m*\u001b[0m\u001b[0mcount\u001b[0m \u001b[1;33m-\u001b[0m \u001b[0mcost\u001b[0m\u001b[1;33m\u001b[0m\u001b[1;33m\u001b[0m\u001b[0m\n\u001b[0;32m     22\u001b[0m                     \u001b[0mcost\u001b[0m \u001b[1;33m=\u001b[0m \u001b[1;36m0\u001b[0m\u001b[1;33m;\u001b[0m \u001b[0mcount\u001b[0m \u001b[1;33m=\u001b[0m \u001b[1;36m0\u001b[0m\u001b[1;33m\u001b[0m\u001b[1;33m\u001b[0m\u001b[0m\n",
      "\u001b[1;31mKeyboardInterrupt\u001b[0m: "
     ]
    }
   ],
   "source": [
    "import sys\n",
    "sys.stdin = open(\"input1.txt\", \"r\")\n",
    "\n",
    "T = int(sys.stdin.readline())\n",
    "\n",
    "for i in range(T) : \n",
    "    sys.stdin.readline()\n",
    "    nlist = list(map(int, sys.stdin.readline().split()))\n",
    "    cost = 0 \n",
    "    count = 0\n",
    "    profit = 0\n",
    "    \n",
    "    for j in range(len(nlist)) : \n",
    "        if j!=len(nlist)-1 and nlist[j] < nlist[j+1] : # 오르막이면 무조건 사\n",
    "            count += 1\n",
    "            cost += nlist[j]\n",
    "        \n",
    "        elif j!=len(nlist)-1 and nlist[j] >= nlist[j+1] : # 내리막이면 \n",
    "            # 파는 경우 : 극대점이고, 뒤에 자기보다 큰 지점이 없어\n",
    "            if j!=0 and nlist[j-1] < nlist[j] : \n",
    "                if nlist[j] > max(nlist[j+1:]) : \n",
    "                    profit += nlist[j]*count - cost\n",
    "                    cost = 0; count = 0\n",
    "                else : \n",
    "                    count += 1; cost += nlist[j]\n",
    "            # 사는 경우 : 뒤에 자기보다 큰 지점이 있어\n",
    "            elif nlist[j] < max(nlist[j+1:]) :\n",
    "                count += 1; cost += nlist[j]\n",
    "            else : pass\n",
    "\n",
    "        elif j==len(nlist)-1 :\n",
    "            if cost>0 :\n",
    "                profit += nlist[j]*count - cost\n",
    "                cost = 0; count = 0\n",
    "    print(f'#{i+1} {profit}')"
   ]
  },
  {
   "cell_type": "code",
   "execution_count": 99,
   "metadata": {},
   "outputs": [
    {
     "name": "stdout",
     "output_type": "stream",
     "text": [
      "#1 4053\n",
      "#2 6385\n",
      "#3 26725\n",
      "#4 211514\n",
      "#5 4848198\n",
      "#6 49761546\n",
      "#7 500155606\n"
     ]
    },
    {
     "ename": "KeyboardInterrupt",
     "evalue": "",
     "output_type": "error",
     "traceback": [
      "\u001b[1;31m---------------------------------------------------------------------------\u001b[0m",
      "\u001b[1;31mKeyboardInterrupt\u001b[0m                         Traceback (most recent call last)",
      "\u001b[1;32m<ipython-input-99-3da2e6a561c8>\u001b[0m in \u001b[0;36m<module>\u001b[1;34m\u001b[0m\n\u001b[0;32m     21\u001b[0m             \u001b[1;32melse\u001b[0m \u001b[1;33m:\u001b[0m \u001b[1;31m# 내리막이면\u001b[0m\u001b[1;33m\u001b[0m\u001b[1;33m\u001b[0m\u001b[0m\n\u001b[0;32m     22\u001b[0m                 \u001b[1;32mif\u001b[0m \u001b[0mnlist\u001b[0m\u001b[1;33m[\u001b[0m\u001b[0mj\u001b[0m\u001b[1;33m]\u001b[0m \u001b[1;33m<\u001b[0m \u001b[0mmax\u001b[0m\u001b[1;33m(\u001b[0m\u001b[0mnlist\u001b[0m\u001b[1;33m[\u001b[0m\u001b[0mj\u001b[0m\u001b[1;33m+\u001b[0m\u001b[1;36m1\u001b[0m\u001b[1;33m:\u001b[0m\u001b[1;33m]\u001b[0m\u001b[1;33m)\u001b[0m\u001b[1;33m:\u001b[0m \u001b[1;31m# 내 뒤에 나보다 큰 애가 있으면 사\u001b[0m\u001b[1;33m\u001b[0m\u001b[1;33m\u001b[0m\u001b[0m\n\u001b[1;32m---> 23\u001b[1;33m                     \u001b[0mcount\u001b[0m \u001b[1;33m+=\u001b[0m \u001b[1;36m1\u001b[0m\u001b[1;33m\u001b[0m\u001b[1;33m\u001b[0m\u001b[0m\n\u001b[0m\u001b[0;32m     24\u001b[0m                     \u001b[0mcost\u001b[0m \u001b[1;33m+=\u001b[0m \u001b[0mnlist\u001b[0m\u001b[1;33m[\u001b[0m\u001b[0mj\u001b[0m\u001b[1;33m]\u001b[0m\u001b[1;33m\u001b[0m\u001b[1;33m\u001b[0m\u001b[0m\n\u001b[0;32m     25\u001b[0m                 \u001b[1;32melif\u001b[0m \u001b[0mj\u001b[0m\u001b[1;33m!=\u001b[0m\u001b[1;36m0\u001b[0m \u001b[1;32mand\u001b[0m \u001b[0mnlist\u001b[0m\u001b[1;33m[\u001b[0m\u001b[0mj\u001b[0m\u001b[1;33m-\u001b[0m\u001b[1;36m1\u001b[0m\u001b[1;33m]\u001b[0m \u001b[1;33m<\u001b[0m \u001b[0mnlist\u001b[0m\u001b[1;33m[\u001b[0m\u001b[0mj\u001b[0m\u001b[1;33m]\u001b[0m \u001b[1;33m:\u001b[0m\u001b[1;31m#내 뒤에 나보다 큰 애 없는데 내가 극대값이면 팔아\u001b[0m\u001b[1;33m\u001b[0m\u001b[1;33m\u001b[0m\u001b[0m\n",
      "\u001b[1;31mKeyboardInterrupt\u001b[0m: "
     ]
    }
   ],
   "source": [
    "import sys\n",
    "\n",
    "sys.stdin = open(\"input1.txt\", \"r\")\n",
    "\n",
    "T = int(sys.stdin.readline())\n",
    "\n",
    "for i in range(T) : \n",
    "    sys.stdin.readline()\n",
    "    nlist = list(map(int, sys.stdin.readline().split()))\n",
    "    cost = 0 \n",
    "    count = 0\n",
    "    profit = 0\n",
    "    \n",
    "    for j in range(len(nlist)):\n",
    "        if j==len(nlist)-1: # 마지막 인덱스에서는 다 처리\n",
    "            profit += nlist[j]*count - cost\n",
    "        else : # 마지막 인덱스가 아닌 경우\n",
    "            if nlist[j] < nlist[j+1]: # 오르막이면 무조건 사\n",
    "                count+= 1\n",
    "                cost += nlist[j]\n",
    "            else : # 내리막이면\n",
    "                if nlist[j] < max(nlist[j+1:]): # 내 뒤에 나보다 큰 애가 있으면 사\n",
    "                    count += 1\n",
    "                    cost += nlist[j]\n",
    "                elif j!=0 and nlist[j-1] < nlist[j] :#내 뒤에 나보다 큰 애 없는데 내가 극대값이면 팔아\n",
    "                    profit += nlist[j]*count - cost\n",
    "                    cost = 0; count = 0\n",
    "                    \n",
    "    print(f'#{i+1} {profit}')"
   ]
  },
  {
   "cell_type": "code",
   "execution_count": 1,
   "metadata": {},
   "outputs": [
    {
     "name": "stdout",
     "output_type": "stream",
     "text": [
      "#1 4053\n",
      "#2 6385\n",
      "#3 26725\n",
      "#4 211514\n",
      "#5 4848198\n",
      "#6 49761546\n"
     ]
    },
    {
     "ename": "KeyboardInterrupt",
     "evalue": "",
     "output_type": "error",
     "traceback": [
      "\u001b[1;31m---------------------------------------------------------------------------\u001b[0m",
      "\u001b[1;31mKeyboardInterrupt\u001b[0m                         Traceback (most recent call last)",
      "\u001b[1;32m<ipython-input-1-1c2d31d8bce7>\u001b[0m in \u001b[0;36m<module>\u001b[1;34m\u001b[0m\n\u001b[0;32m     16\u001b[0m             \u001b[0mcount\u001b[0m\u001b[1;33m+=\u001b[0m\u001b[1;36m1\u001b[0m\u001b[1;33m;\u001b[0m \u001b[0mcost\u001b[0m \u001b[1;33m+=\u001b[0m \u001b[0mnlist\u001b[0m\u001b[1;33m[\u001b[0m\u001b[0mj\u001b[0m\u001b[1;33m]\u001b[0m\u001b[1;33m\u001b[0m\u001b[1;33m\u001b[0m\u001b[0m\n\u001b[0;32m     17\u001b[0m         \u001b[1;32melif\u001b[0m \u001b[0mnlist\u001b[0m\u001b[1;33m[\u001b[0m\u001b[0mj\u001b[0m\u001b[1;33m]\u001b[0m\u001b[1;33m<\u001b[0m\u001b[0mmax\u001b[0m\u001b[1;33m(\u001b[0m\u001b[0mnlist\u001b[0m\u001b[1;33m[\u001b[0m\u001b[0mj\u001b[0m\u001b[1;33m+\u001b[0m\u001b[1;36m1\u001b[0m\u001b[1;33m:\u001b[0m\u001b[1;33m]\u001b[0m\u001b[1;33m)\u001b[0m\u001b[1;33m:\u001b[0m \u001b[1;31m# 내리막인데 뒤에 한놈이라도 나보다 크면 => 이부분이 미친 복잡도..\u001b[0m\u001b[1;33m\u001b[0m\u001b[1;33m\u001b[0m\u001b[0m\n\u001b[1;32m---> 18\u001b[1;33m             \u001b[0mcount\u001b[0m\u001b[1;33m+=\u001b[0m\u001b[1;36m1\u001b[0m\u001b[1;33m;\u001b[0m \u001b[0mcost\u001b[0m \u001b[1;33m+=\u001b[0m \u001b[0mnlist\u001b[0m\u001b[1;33m[\u001b[0m\u001b[0mj\u001b[0m\u001b[1;33m]\u001b[0m\u001b[1;33m\u001b[0m\u001b[1;33m\u001b[0m\u001b[0m\n\u001b[0m\u001b[0;32m     19\u001b[0m         \u001b[1;32melif\u001b[0m \u001b[0mj\u001b[0m\u001b[1;33m!=\u001b[0m\u001b[1;36m0\u001b[0m \u001b[1;32mand\u001b[0m \u001b[0mnlist\u001b[0m\u001b[1;33m[\u001b[0m\u001b[0mj\u001b[0m\u001b[1;33m-\u001b[0m\u001b[1;36m1\u001b[0m\u001b[1;33m]\u001b[0m \u001b[1;33m<\u001b[0m \u001b[0mnlist\u001b[0m\u001b[1;33m[\u001b[0m\u001b[0mj\u001b[0m\u001b[1;33m]\u001b[0m \u001b[1;33m:\u001b[0m\u001b[1;31m#내 뒤에 나보다 큰 애 없는데 내가 극대값이면 팔아\u001b[0m\u001b[1;33m\u001b[0m\u001b[1;33m\u001b[0m\u001b[0m\n\u001b[0;32m     20\u001b[0m             \u001b[0mprofit\u001b[0m \u001b[1;33m+=\u001b[0m \u001b[0mnlist\u001b[0m\u001b[1;33m[\u001b[0m\u001b[0mj\u001b[0m\u001b[1;33m]\u001b[0m\u001b[1;33m*\u001b[0m\u001b[0mcount\u001b[0m \u001b[1;33m-\u001b[0m \u001b[0mcost\u001b[0m\u001b[1;33m\u001b[0m\u001b[1;33m\u001b[0m\u001b[0m\n",
      "\u001b[1;31mKeyboardInterrupt\u001b[0m: "
     ]
    }
   ],
   "source": [
    "import sys\n",
    "\n",
    "sys.stdin = open(\"input1.txt\", \"r\")\n",
    "\n",
    "T = int(sys.stdin.readline())\n",
    "\n",
    "for i in range(T) : \n",
    "    listlen = int(sys.stdin.readline())\n",
    "    nlist = list(map(int, sys.stdin.readline().split()))\n",
    "    cost = 0; count = 0; profit = 0    \n",
    "    \n",
    "    for j in range(listlen):\n",
    "        if j==listlen-1: # 맨뒤\n",
    "            profit += nlist[j]*count - cost\n",
    "        elif nlist[j] < nlist[j+1]: # 오르막\n",
    "            count+=1; cost += nlist[j]\n",
    "        elif nlist[j]<max(nlist[j+1:]): # 내리막인데 뒤에 한놈이라도 나보다 크면 => 이부분이 미친 복잡도.. \n",
    "            count+=1; cost += nlist[j]\n",
    "        elif j!=0 and nlist[j-1] < nlist[j] :#내 뒤에 나보다 큰 애 없는데 내가 극대값이면 팔아\n",
    "            profit += nlist[j]*count - cost\n",
    "            cost = 0; count = 0\n",
    "                    \n",
    "    print(f'#{i+1} {profit}')\n",
    "    \n",
    "    #letter == 't' for letter in 'monty'"
   ]
  },
  {
   "cell_type": "markdown",
   "metadata": {},
   "source": [
    "1859 일단 패스 ..."
   ]
  },
  {
   "cell_type": "markdown",
   "metadata": {},
   "source": [
    "### 1926. 간단한 369게임"
   ]
  },
  {
   "cell_type": "code",
   "execution_count": 13,
   "metadata": {
    "scrolled": true
   },
   "outputs": [
    {
     "name": "stdout",
     "output_type": "stream",
     "text": [
      "10\n",
      "1 2 - 4 5 - 7 8 - 10 "
     ]
    }
   ],
   "source": [
    "num = int(input())\n",
    "for n in range(1, num+1):\n",
    "    if any(['3' in str(n), '6' in str(n), '9' in str(n)]) :\n",
    "        for x in str(n) : \n",
    "            if x in ['3', '6', '9'] :\n",
    "                print(\"-\", end = \"\")\n",
    "    else : \n",
    "        print(n, end = \"\")\n",
    "    print(end = \" \")"
   ]
  },
  {
   "cell_type": "markdown",
   "metadata": {},
   "source": [
    "### 1928. Base64 Decoder"
   ]
  },
  {
   "cell_type": "code",
   "execution_count": 82,
   "metadata": {
    "scrolled": true
   },
   "outputs": [
    {
     "name": "stdout",
     "output_type": "stream",
     "text": [
      "1\n",
      "U3VzcGljaW9uIGZvbGxvd3MgY2xvc2Ugb24gbWlzdHJ1c3Qu\n",
      "#1 Suspicion follows close on mistrust.\n"
     ]
    }
   ],
   "source": [
    "base64_table = {}\n",
    "for i in range(65, 91):\n",
    "    base64_table[chr(i)] = i-65\n",
    "for i in range(97, 123):\n",
    "    base64_table[chr(i)] = i-71\n",
    "for i in range(48, 58):\n",
    "    base64_table[chr(i)] = i+4\n",
    "base64_table[\"+\"] = 62\n",
    "base64_table[\"/\"] = 63\n",
    "\n",
    "T = int(input())\n",
    "for i in range(T):\n",
    "    stringToDecode = input()\n",
    "    buffer = ''\n",
    "    result = ''\n",
    "    for char in stringToDecode : \n",
    "        char64 = bin(base64_table[char])[2:]\n",
    "        if len(char64) < 6:\n",
    "            char64 = \"0\"*(6-len(char64)) + char64\n",
    "        buffer +=  char64\n",
    "    while buffer :\n",
    "        result += chr(int(buffer[:8], base=2))\n",
    "        buffer = buffer[8:]\n",
    "    print(f'#{i+1} {result}')"
   ]
  },
  {
   "cell_type": "markdown",
   "metadata": {},
   "source": [
    "### 1940. 가랏! RC카!"
   ]
  },
  {
   "cell_type": "code",
   "execution_count": 99,
   "metadata": {},
   "outputs": [
    {
     "name": "stdout",
     "output_type": "stream",
     "text": [
      "1\n",
      "3\n",
      "1 1\n",
      "0\n",
      "1 1\n",
      "#1 4\n"
     ]
    }
   ],
   "source": [
    "T = int(input())\n",
    "for i in range(T):\n",
    "    commandNum = int(input())\n",
    "    nowVelocity = 0\n",
    "    nowDistance = 0\n",
    "    \n",
    "    for _ in range(commandNum):\n",
    "        command_list = list(map(int, input().split()))\n",
    "        \n",
    "        if len(command_list)==2 : \n",
    "            command, changeVelocity = command_list\n",
    "        else : \n",
    "            command = command_list[0]\n",
    "            \n",
    "        if command == 1 :\n",
    "            nowVelocity += changeVelocity\n",
    "        elif command == 2 :\n",
    "            nowVelocity -= changeVelocity\n",
    "            \n",
    "        if nowVelocity<0 : \n",
    "            nowVelocity = 0\n",
    "            \n",
    "        nowDistance += nowVelocity\n",
    "        \n",
    "    print(f'#{i+1} {nowDistance}')\n",
    "    "
   ]
  },
  {
   "cell_type": "markdown",
   "metadata": {},
   "source": [
    "### 1945. 간단한 소인수분해"
   ]
  },
  {
   "cell_type": "code",
   "execution_count": 104,
   "metadata": {},
   "outputs": [
    {
     "name": "stdout",
     "output_type": "stream",
     "text": [
      "1\n",
      "20\n",
      "#1 2 0 1 0 0\n"
     ]
    }
   ],
   "source": [
    "def divideTillEnd(num, divisor):\n",
    "    if num % divisor == 0 :\n",
    "        while num % divisor == 0 :\n",
    "            num = num // divisor\n",
    "            fact_dict[divisor] += 1\n",
    "\n",
    "    \n",
    "T = int(input())\n",
    "\n",
    "for i in range(T):\n",
    "    num = int(input())\n",
    "    fact_dict = {2: 0, 3: 0, 5: 0, 7: 0, 11: 0}\n",
    "    for divisor in fact_dict.keys():\n",
    "        divideTillEnd(num, divisor)\n",
    "    \n",
    "    print(f'#{i+1} {fact_dict[2]} {fact_dict[3]} {fact_dict[5]} {fact_dict[7]} {fact_dict[11]}')\n",
    "    \n",
    "    "
   ]
  },
  {
   "cell_type": "markdown",
   "metadata": {},
   "source": [
    "### 1946. 간단한 압축 풀기"
   ]
  },
  {
   "cell_type": "code",
   "execution_count": 1,
   "metadata": {},
   "outputs": [
    {
     "name": "stdout",
     "output_type": "stream",
     "text": [
      "3\n"
     ]
    },
    {
     "ename": "KeyboardInterrupt",
     "evalue": "Interrupted by user",
     "output_type": "error",
     "traceback": [
      "\u001b[1;31m---------------------------------------------------------------------------\u001b[0m",
      "\u001b[1;31mKeyboardInterrupt\u001b[0m                         Traceback (most recent call last)",
      "\u001b[1;32m<ipython-input-1-88793b8903a9>\u001b[0m in \u001b[0;36m<module>\u001b[1;34m\u001b[0m\n\u001b[0;32m      2\u001b[0m \u001b[1;33m\u001b[0m\u001b[0m\n\u001b[0;32m      3\u001b[0m \u001b[1;32mfor\u001b[0m \u001b[0mi\u001b[0m \u001b[1;32min\u001b[0m \u001b[0mrange\u001b[0m\u001b[1;33m(\u001b[0m\u001b[0mT\u001b[0m\u001b[1;33m)\u001b[0m\u001b[1;33m:\u001b[0m\u001b[1;33m\u001b[0m\u001b[1;33m\u001b[0m\u001b[0m\n\u001b[1;32m----> 4\u001b[1;33m     \u001b[0mlineNum\u001b[0m \u001b[1;33m=\u001b[0m \u001b[0mint\u001b[0m\u001b[1;33m(\u001b[0m\u001b[0minput\u001b[0m\u001b[1;33m(\u001b[0m\u001b[1;33m)\u001b[0m\u001b[1;33m)\u001b[0m\u001b[1;33m\u001b[0m\u001b[1;33m\u001b[0m\u001b[0m\n\u001b[0m\u001b[0;32m      5\u001b[0m     \u001b[0mresult\u001b[0m \u001b[1;33m=\u001b[0m \u001b[1;33m[\u001b[0m\u001b[1;33m]\u001b[0m\u001b[1;33m\u001b[0m\u001b[1;33m\u001b[0m\u001b[0m\n\u001b[0;32m      6\u001b[0m     \u001b[1;32mfor\u001b[0m \u001b[0mj\u001b[0m \u001b[1;32min\u001b[0m \u001b[0mrange\u001b[0m\u001b[1;33m(\u001b[0m\u001b[0mlineNum\u001b[0m\u001b[1;33m)\u001b[0m\u001b[1;33m:\u001b[0m\u001b[1;33m\u001b[0m\u001b[1;33m\u001b[0m\u001b[0m\n",
      "\u001b[1;32mc:\\users\\aclass\\appdata\\local\\programs\\python\\python37\\lib\\site-packages\\ipykernel\\kernelbase.py\u001b[0m in \u001b[0;36mraw_input\u001b[1;34m(self, prompt)\u001b[0m\n\u001b[0;32m    861\u001b[0m             \u001b[0mself\u001b[0m\u001b[1;33m.\u001b[0m\u001b[0m_parent_ident\u001b[0m\u001b[1;33m,\u001b[0m\u001b[1;33m\u001b[0m\u001b[1;33m\u001b[0m\u001b[0m\n\u001b[0;32m    862\u001b[0m             \u001b[0mself\u001b[0m\u001b[1;33m.\u001b[0m\u001b[0m_parent_header\u001b[0m\u001b[1;33m,\u001b[0m\u001b[1;33m\u001b[0m\u001b[1;33m\u001b[0m\u001b[0m\n\u001b[1;32m--> 863\u001b[1;33m             \u001b[0mpassword\u001b[0m\u001b[1;33m=\u001b[0m\u001b[1;32mFalse\u001b[0m\u001b[1;33m,\u001b[0m\u001b[1;33m\u001b[0m\u001b[1;33m\u001b[0m\u001b[0m\n\u001b[0m\u001b[0;32m    864\u001b[0m         )\n\u001b[0;32m    865\u001b[0m \u001b[1;33m\u001b[0m\u001b[0m\n",
      "\u001b[1;32mc:\\users\\aclass\\appdata\\local\\programs\\python\\python37\\lib\\site-packages\\ipykernel\\kernelbase.py\u001b[0m in \u001b[0;36m_input_request\u001b[1;34m(self, prompt, ident, parent, password)\u001b[0m\n\u001b[0;32m    902\u001b[0m             \u001b[1;32mexcept\u001b[0m \u001b[0mKeyboardInterrupt\u001b[0m\u001b[1;33m:\u001b[0m\u001b[1;33m\u001b[0m\u001b[1;33m\u001b[0m\u001b[0m\n\u001b[0;32m    903\u001b[0m                 \u001b[1;31m# re-raise KeyboardInterrupt, to truncate traceback\u001b[0m\u001b[1;33m\u001b[0m\u001b[1;33m\u001b[0m\u001b[1;33m\u001b[0m\u001b[0m\n\u001b[1;32m--> 904\u001b[1;33m                 \u001b[1;32mraise\u001b[0m \u001b[0mKeyboardInterrupt\u001b[0m\u001b[1;33m(\u001b[0m\u001b[1;34m\"Interrupted by user\"\u001b[0m\u001b[1;33m)\u001b[0m \u001b[1;32mfrom\u001b[0m \u001b[1;32mNone\u001b[0m\u001b[1;33m\u001b[0m\u001b[1;33m\u001b[0m\u001b[0m\n\u001b[0m\u001b[0;32m    905\u001b[0m             \u001b[1;32mexcept\u001b[0m \u001b[0mException\u001b[0m \u001b[1;32mas\u001b[0m \u001b[0me\u001b[0m\u001b[1;33m:\u001b[0m\u001b[1;33m\u001b[0m\u001b[1;33m\u001b[0m\u001b[0m\n\u001b[0;32m    906\u001b[0m                 \u001b[0mself\u001b[0m\u001b[1;33m.\u001b[0m\u001b[0mlog\u001b[0m\u001b[1;33m.\u001b[0m\u001b[0mwarning\u001b[0m\u001b[1;33m(\u001b[0m\u001b[1;34m\"Invalid Message:\"\u001b[0m\u001b[1;33m,\u001b[0m \u001b[0mexc_info\u001b[0m\u001b[1;33m=\u001b[0m\u001b[1;32mTrue\u001b[0m\u001b[1;33m)\u001b[0m\u001b[1;33m\u001b[0m\u001b[1;33m\u001b[0m\u001b[0m\n",
      "\u001b[1;31mKeyboardInterrupt\u001b[0m: Interrupted by user"
     ]
    }
   ],
   "source": [
    "T = int(input())\n",
    "\n",
    "for i in range(T):\n",
    "    lineNum = int(input())\n",
    "    result = []\n",
    "    for j in range(lineNum):\n",
    "        alpha, num = input().split()\n",
    "        num = int(num)\n",
    "\n",
    "        if j!=0 :\n",
    "            preLineIdle = 10 - sum([x[1]for x in result[-1]])\n",
    "            \n",
    "        if j == 0 or preLineIdle == 0:\n",
    "            if num <= 10 :\n",
    "                result.append([(alpha, num)])\n",
    "            else : \n",
    "                result.append([(alpha, 10)])\n",
    "                result.append([(alpha, num-10)])\n",
    "        elif num < preLineIdle : \n",
    "            result[-1].append((alpha, num))\n",
    "        else :\n",
    "            result[-1].append((alpha, preLineIdle))\n",
    "            if num-preLineIdle <10 :\n",
    "                result.append([(alpha, num-preLineIdle)])\n",
    "            else :\n",
    "                result.append([(alpha, 10)])\n",
    "                result.append([(alpha, num-preLineIdle-10)])\n",
    "            \n",
    "    print(f'#{i+1}')\n",
    "    for line in result : \n",
    "        for alpha, num in line : \n",
    "            print(alpha*num, end = '')\n",
    "        print()"
   ]
  },
  {
   "cell_type": "markdown",
   "metadata": {},
   "source": [
    "### 1948"
   ]
  },
  {
   "cell_type": "code",
   "execution_count": 5,
   "metadata": {},
   "outputs": [
    {
     "name": "stdout",
     "output_type": "stream",
     "text": [
      "3\n",
      "3 1 3 31\n",
      "#1 31\n",
      "5 5 8 15\n",
      "#2 103\n",
      "7 17 12 24\n",
      "#3 161\n"
     ]
    }
   ],
   "source": [
    "def cal_days(month1, day1, month2, day2) : \n",
    "    month_days = {1: 31, 2: 28, 3: 31, 4: 30, 5: 31, 6: 30, 7: 31, 8: 31, 9: 30, 10: 31, 11: 30, 12: 31}\n",
    "    \n",
    "    if month1 == month2 :\n",
    "        return day2 - day1 + 1\n",
    "    else :\n",
    "        return (month_days[month1] - day1 + 1) + day2 + sum([month_days[x] for x in range(month1+1, month2)])\n",
    "        \n",
    "            \n",
    "    \n",
    "T = int(input())\n",
    "for i in range(T):\n",
    "    month1, day1, month2, day2 = map(int, input().split())\n",
    "    print(f'#{i+1} {cal_days(month1, day1, month2, day2)}')"
   ]
  },
  {
   "cell_type": "markdown",
   "metadata": {},
   "source": [
    "### 1954. 달팽이 숫자"
   ]
  },
  {
   "cell_type": "code",
   "execution_count": 65,
   "metadata": {},
   "outputs": [
    {
     "name": "stdout",
     "output_type": "stream",
     "text": [
      "2\n",
      "3\n",
      "#1\n",
      "1 2 3\n",
      "8 9 4\n",
      "7 6 5\n",
      "4\n",
      "#2\n",
      "1 2 3 4\n",
      "12 13 14 5\n",
      "11 16 15 6\n",
      "10 9 8 7\n"
     ]
    }
   ],
   "source": [
    "def snail(num):\n",
    "    change_direction = {'right': 'down', 'down': 'left', 'left': 'up', 'up': 'right'}\n",
    "    move_index = {'right': (0, 1), 'left': (0, -1), 'down': (1, 0), 'up': (-1, 0)}\n",
    "    \n",
    "    result = [[-1 for _ in range(num)] for _ in range(num)]\n",
    "    result[0][0] = 1\n",
    "    direction = 'right'\n",
    "    m=0; n=0\n",
    "    \n",
    "    for i in range(1,num**2):\n",
    "        next_m, next_n = (m+move_index[direction][0], n+move_index[direction][1])\n",
    "        if next_m>=num or next_n>=num or result[next_m][next_n]!=-1:\n",
    "            direction = change_direction[direction]\n",
    "        m += move_index[direction][0]\n",
    "        n += move_index[direction][1]\n",
    "        result[m][n] = i+1\n",
    "    \n",
    "    return result\n",
    "\n",
    "T = int(input())\n",
    "for i in range(T):\n",
    "    num = int(input())\n",
    "    result = snail(num)\n",
    "    print(f'#{i+1}')\n",
    "    for line in result:\n",
    "        print(' '.join(map(str,line)))\n",
    " "
   ]
  },
  {
   "cell_type": "markdown",
   "metadata": {},
   "source": [
    "### 1959. 두 개의 숫자열"
   ]
  },
  {
   "cell_type": "code",
   "execution_count": 75,
   "metadata": {},
   "outputs": [
    {
     "name": "stdout",
     "output_type": "stream",
     "text": [
      "1\n",
      "7 6\n",
      "6 0 5 5 -1 1 6\n",
      "-4 1 8 7 -9 3\n",
      "#1 63\n"
     ]
    }
   ],
   "source": [
    "def max_mult_sum(short_nums, long_nums):\n",
    "    max_sum = sum([short_nums[i]*long_nums[i] for i in range(len(short_nums))])\n",
    "    for n in range(1, len(long_nums)-len(short_nums)+1):\n",
    "        nth_max_sum = sum([short_nums[i]*long_nums[i+n] for i in range(len(short_nums))])\n",
    "        if nth_max_sum>max_sum:\n",
    "            max_sum = nth_max_sum\n",
    "    \n",
    "    return max_sum\n",
    "        \n",
    "\n",
    "T = int(input())\n",
    "for i in range(T):\n",
    "    len1, len2 = map(int, input().split())\n",
    "    numbers1 = list(map(int, input().split()))\n",
    "    numbers2 = list(map(int, input().split()))\n",
    "\n",
    "    if len1 == len2:\n",
    "        result = sum([numbers1[i]*numbers2[i] for i in range(len(numbers1))])\n",
    "    elif len1 < len2:\n",
    "        result = max_mult_sum(numbers1, numbers2)\n",
    "    else :\n",
    "        result = max_mult_sum(numbers2, numbers1)\n",
    "    \n",
    "    print(f'#{i+1} {result}')"
   ]
  },
  {
   "cell_type": "markdown",
   "metadata": {},
   "source": [
    "### 1961. 숫자 배열 회전"
   ]
  },
  {
   "cell_type": "code",
   "execution_count": 7,
   "metadata": {},
   "outputs": [
    {
     "name": "stdout",
     "output_type": "stream",
     "text": [
      "1\n",
      "3\n",
      "1 2 3\n",
      "4 5 6\n",
      "7 8 9\n",
      "#1\n",
      "741 852 963 \n",
      "987 654 321 \n",
      "369 258 147 \n"
     ]
    }
   ],
   "source": [
    "T = int(input())\n",
    "\n",
    "for i in range(T):\n",
    "    num = int(input())\n",
    "    num_list = [list(map(int, input().split())) for _ in range(num)]\n",
    "    \n",
    "    result = [[[-1 for _ in range(num)] for _ in range(num)] for _ in range(3)]\n",
    "    for m in range(num):\n",
    "        for n in range(num):\n",
    "            result[0][n][2-m]= num_list[m][n]\n",
    "            result[1][2-m][2-n] = num_list[m][n]\n",
    "            result[2][2-n][m] = num_list[m][n]\n",
    "    \n",
    "    print(f'#{i+1}')\n",
    "    for m in range(3):\n",
    "        for n in range(num) : \n",
    "            print(\"\".join(map(str, result[m][n])), end = \" \")\n",
    "        print()"
   ]
  },
  {
   "cell_type": "markdown",
   "metadata": {},
   "source": [
    "### 1966. 숫자를 정렬하자"
   ]
  },
  {
   "cell_type": "code",
   "execution_count": 5,
   "metadata": {},
   "outputs": [
    {
     "name": "stdout",
     "output_type": "stream",
     "text": [
      "1\n",
      "5\n",
      "5 6 4\n",
      "#1 4 5 6\n"
     ]
    }
   ],
   "source": [
    "T = int(input())\n",
    "for i in range(T):\n",
    "    input()\n",
    "    numbers = list(map(int, input().split()))\n",
    "    print(f'#{i+1} {\" \".join(list(map(str, sorted(numbers))))}')"
   ]
  },
  {
   "cell_type": "markdown",
   "metadata": {},
   "source": [
    "### 1970. 쉬운 거스름돈"
   ]
  },
  {
   "cell_type": "code",
   "execution_count": 18,
   "metadata": {},
   "outputs": [
    {
     "name": "stdout",
     "output_type": "stream",
     "text": [
      "2\n",
      "32850\n",
      "#1\n",
      "0 3 0 2 1 3 1 0\n",
      "160\n",
      "#2\n",
      "0 0 0 0 0 1 1 1\n"
     ]
    }
   ],
   "source": [
    "T = int(input())\n",
    "for i in range(T):\n",
    "    money = int(input())\n",
    "    money_list = [[50000, 0], [10000, 0], [5000, 0], [1000, 0], [500, 0], [100, 0], [50, 0], [10, 0]]\n",
    "    \n",
    "    for j in range(len(money_list)):\n",
    "        if money>=money_list[j][0]:\n",
    "            money_list[j][1], money = divmod(money, money_list[j][0])\n",
    "\n",
    "    print(f'#{i+1}\\n{\" \".join([str(x[1]) for x in money_list])}')\n",
    "    "
   ]
  },
  {
   "cell_type": "markdown",
   "metadata": {},
   "source": [
    "1974\n",
    "1976\n",
    "1979\n",
    "1983\n",
    "1984\n",
    "1986\n",
    "1989\n",
    "2001\n",
    "2005\n",
    "2007"
   ]
  },
  {
   "cell_type": "markdown",
   "metadata": {},
   "source": [
    "### 1974. 스도쿠 검증"
   ]
  },
  {
   "cell_type": "code",
   "execution_count": 32,
   "metadata": {},
   "outputs": [
    {
     "name": "stdout",
     "output_type": "stream",
     "text": [
      "#1 1\n",
      "#2 0\n",
      "#3 1\n",
      "#4 0\n",
      "#5 0\n",
      "#6 1\n",
      "#7 0\n",
      "#8 1\n",
      "#9 1\n",
      "#10 0\n"
     ]
    }
   ],
   "source": [
    "T = int(input())\n",
    "for i in range(T):\n",
    "    flag = True\n",
    "    box_index = [(x, y) for x in [0, 3, 6] for y in [0, 3, 6]]\n",
    "    board = [list(map(int, input().split())) for _ in range(9)]\n",
    "    for j in range(9):\n",
    "        hori_line = board[j]\n",
    "        vert_line = [x[j] for x in board]\n",
    "        box = board[box_index[j][0]][box_index[j][1]:box_index[j][1]+3] +\\\n",
    "            board[box_index[j][0]+1][box_index[j][1]:box_index[j][1]+3] + \\\n",
    "            board[box_index[j][0]+2][box_index[j][1]:box_index[j][1]+3]\n",
    "        \n",
    "        if not len(set(hori_line)) == len(set(vert_line)) == len(set(box)) == 9:\n",
    "            flag = False\n",
    "            break\n",
    "        \n",
    "    print(f'#{i+1} {int(flag)}')"
   ]
  },
  {
   "cell_type": "markdown",
   "metadata": {},
   "source": [
    "### 1976. 시각 덧셈"
   ]
  },
  {
   "cell_type": "code",
   "execution_count": 33,
   "metadata": {},
   "outputs": [
    {
     "name": "stdout",
     "output_type": "stream",
     "text": [
      "3\n",
      "3 17 1 39\n",
      "#1 4 56\n",
      "8 22 5 10\n",
      "#2 1 32\n",
      "6 53 2 12\n",
      "#3 9 5\n"
     ]
    }
   ],
   "source": [
    "T = int(input())\n",
    "\n",
    "for i in range(T):\n",
    "    hour1, min1, hour2, min2 = map(int, input().split())\n",
    "    \n",
    "    result_hour, result_min = (hour1 + hour2, min1 + min2)\n",
    "    if result_min >= 60:\n",
    "        result_min -= 60\n",
    "        result_hour += 1\n",
    "    \n",
    "    if result_hour > 12 : \n",
    "        result_hour -= 12\n",
    "    \n",
    "    print(f'#{i+1} {result_hour} {result_min}')\n",
    "    "
   ]
  },
  {
   "cell_type": "markdown",
   "metadata": {},
   "source": [
    "### 1979. 어디에 단어가 들어갈 수 있을까"
   ]
  },
  {
   "cell_type": "code",
   "execution_count": 65,
   "metadata": {},
   "outputs": [
    {
     "name": "stdout",
     "output_type": "stream",
     "text": [
      "#1 2\n",
      "#2 6\n",
      "#3 6\n",
      "#4 0\n",
      "#5 14\n",
      "#6 2\n",
      "#7 45\n",
      "#8 0\n",
      "#9 98\n",
      "#10 7\n"
     ]
    }
   ],
   "source": [
    "def count_word_space(N, k, board):\n",
    "    count = 0\n",
    "    for line in board : \n",
    "        i = 0\n",
    "        while i< N-k+1:\n",
    "            if i == 0:\n",
    "                if set(line[i:i+k]) == {1} and line[i+k] == 0:\n",
    "                    count += 1\n",
    "                    i += k \n",
    "                else : \n",
    "                    i += 1\n",
    "                    \n",
    "            elif i+k == N:\n",
    "                if set(line[i:i+k]) == {1} and line[i-1] == 0:\n",
    "                    count += 1\n",
    "                    i += k\n",
    "                else : \n",
    "                    i += 1\n",
    "            else : \n",
    "                if set(line[i:i+k]) == {1} and line[i-1]==line[i+k]==0:\n",
    "                    count += 1\n",
    "                    i += k\n",
    "                else :\n",
    "                    i += 1\n",
    "            \n",
    "    return count\n",
    "    \n",
    "T = int(import())\n",
    "\n",
    "for n in range(1, T+1):\n",
    "    N, k = map(int, import().split())\n",
    "    board = [list(map(int, import().split())) for _ in range(N)]\n",
    "    board_trans = [[-1 for _ in range(N)] for _ in range(N)]\n",
    "    for i in range(N):\n",
    "        for j in range(N):\n",
    "            board_trans[i][j] = board[j][i]\n",
    "    \n",
    "    count = count_word_space(N, k, board) + count_word_space(N, k, board_trans)\n",
    "    \n",
    "    print(f'#{n} {count}')"
   ]
  },
  {
   "cell_type": "markdown",
   "metadata": {},
   "source": [
    "### 1983. 조교의 성적 매기기"
   ]
  },
  {
   "cell_type": "code",
   "execution_count": 96,
   "metadata": {},
   "outputs": [
    {
     "ename": "KeyboardInterrupt",
     "evalue": "Interrupted by user",
     "output_type": "error",
     "traceback": [
      "\u001b[1;31m---------------------------------------------------------------------------\u001b[0m",
      "\u001b[1;31mKeyboardInterrupt\u001b[0m                         Traceback (most recent call last)",
      "\u001b[1;32m<ipython-input-96-2bf7d220ce90>\u001b[0m in \u001b[0;36m<module>\u001b[1;34m\u001b[0m\n\u001b[0;32m      2\u001b[0m \u001b[0msys\u001b[0m\u001b[1;33m.\u001b[0m\u001b[0mstdin\u001b[0m \u001b[1;33m=\u001b[0m \u001b[0mopen\u001b[0m\u001b[1;33m(\u001b[0m\u001b[1;34m\"input_1983.txt\"\u001b[0m\u001b[1;33m,\u001b[0m \u001b[1;34m\"r\"\u001b[0m\u001b[1;33m)\u001b[0m\u001b[1;33m\u001b[0m\u001b[1;33m\u001b[0m\u001b[0m\n\u001b[0;32m      3\u001b[0m \u001b[1;33m\u001b[0m\u001b[0m\n\u001b[1;32m----> 4\u001b[1;33m \u001b[0mT\u001b[0m \u001b[1;33m=\u001b[0m \u001b[0mint\u001b[0m\u001b[1;33m(\u001b[0m\u001b[0minput\u001b[0m\u001b[1;33m(\u001b[0m\u001b[1;33m)\u001b[0m\u001b[1;33m)\u001b[0m\u001b[1;33m\u001b[0m\u001b[1;33m\u001b[0m\u001b[0m\n\u001b[0m\u001b[0;32m      5\u001b[0m \u001b[1;33m\u001b[0m\u001b[0m\n\u001b[0;32m      6\u001b[0m \u001b[1;32mfor\u001b[0m \u001b[0mt\u001b[0m \u001b[1;32min\u001b[0m \u001b[0mrange\u001b[0m\u001b[1;33m(\u001b[0m\u001b[1;36m1\u001b[0m\u001b[1;33m,\u001b[0m \u001b[0mT\u001b[0m\u001b[1;33m+\u001b[0m\u001b[1;36m1\u001b[0m\u001b[1;33m)\u001b[0m\u001b[1;33m:\u001b[0m\u001b[1;33m\u001b[0m\u001b[1;33m\u001b[0m\u001b[0m\n",
      "\u001b[1;32mc:\\users\\aclass\\appdata\\local\\programs\\python\\python37\\lib\\site-packages\\ipykernel\\kernelbase.py\u001b[0m in \u001b[0;36mraw_input\u001b[1;34m(self, prompt)\u001b[0m\n\u001b[0;32m    861\u001b[0m             \u001b[0mself\u001b[0m\u001b[1;33m.\u001b[0m\u001b[0m_parent_ident\u001b[0m\u001b[1;33m,\u001b[0m\u001b[1;33m\u001b[0m\u001b[1;33m\u001b[0m\u001b[0m\n\u001b[0;32m    862\u001b[0m             \u001b[0mself\u001b[0m\u001b[1;33m.\u001b[0m\u001b[0m_parent_header\u001b[0m\u001b[1;33m,\u001b[0m\u001b[1;33m\u001b[0m\u001b[1;33m\u001b[0m\u001b[0m\n\u001b[1;32m--> 863\u001b[1;33m             \u001b[0mpassword\u001b[0m\u001b[1;33m=\u001b[0m\u001b[1;32mFalse\u001b[0m\u001b[1;33m,\u001b[0m\u001b[1;33m\u001b[0m\u001b[1;33m\u001b[0m\u001b[0m\n\u001b[0m\u001b[0;32m    864\u001b[0m         )\n\u001b[0;32m    865\u001b[0m \u001b[1;33m\u001b[0m\u001b[0m\n",
      "\u001b[1;32mc:\\users\\aclass\\appdata\\local\\programs\\python\\python37\\lib\\site-packages\\ipykernel\\kernelbase.py\u001b[0m in \u001b[0;36m_input_request\u001b[1;34m(self, prompt, ident, parent, password)\u001b[0m\n\u001b[0;32m    902\u001b[0m             \u001b[1;32mexcept\u001b[0m \u001b[0mKeyboardInterrupt\u001b[0m\u001b[1;33m:\u001b[0m\u001b[1;33m\u001b[0m\u001b[1;33m\u001b[0m\u001b[0m\n\u001b[0;32m    903\u001b[0m                 \u001b[1;31m# re-raise KeyboardInterrupt, to truncate traceback\u001b[0m\u001b[1;33m\u001b[0m\u001b[1;33m\u001b[0m\u001b[1;33m\u001b[0m\u001b[0m\n\u001b[1;32m--> 904\u001b[1;33m                 \u001b[1;32mraise\u001b[0m \u001b[0mKeyboardInterrupt\u001b[0m\u001b[1;33m(\u001b[0m\u001b[1;34m\"Interrupted by user\"\u001b[0m\u001b[1;33m)\u001b[0m \u001b[1;32mfrom\u001b[0m \u001b[1;32mNone\u001b[0m\u001b[1;33m\u001b[0m\u001b[1;33m\u001b[0m\u001b[0m\n\u001b[0m\u001b[0;32m    905\u001b[0m             \u001b[1;32mexcept\u001b[0m \u001b[0mException\u001b[0m \u001b[1;32mas\u001b[0m \u001b[0me\u001b[0m\u001b[1;33m:\u001b[0m\u001b[1;33m\u001b[0m\u001b[1;33m\u001b[0m\u001b[0m\n\u001b[0;32m    906\u001b[0m                 \u001b[0mself\u001b[0m\u001b[1;33m.\u001b[0m\u001b[0mlog\u001b[0m\u001b[1;33m.\u001b[0m\u001b[0mwarning\u001b[0m\u001b[1;33m(\u001b[0m\u001b[1;34m\"Invalid Message:\"\u001b[0m\u001b[1;33m,\u001b[0m \u001b[0mexc_info\u001b[0m\u001b[1;33m=\u001b[0m\u001b[1;32mTrue\u001b[0m\u001b[1;33m)\u001b[0m\u001b[1;33m\u001b[0m\u001b[1;33m\u001b[0m\u001b[0m\n",
      "\u001b[1;31mKeyboardInterrupt\u001b[0m: Interrupted by user"
     ]
    }
   ],
   "source": [
    "T = int(input())\n",
    "\n",
    "for t in range(1, T+1):\n",
    "    N, k = map(int, input().split())\n",
    "    grade_list = ['A+', 'A0', 'A-', 'B+', 'B0', 'B-', 'C+', 'C0', 'C-', 'D0']\n",
    "    \n",
    "    scores = []\n",
    "    for _ in range(N):\n",
    "        score = list(map(int, input().split()))\n",
    "        scores.append(score[0]*0.35 + score[1]*0.45 + score[2]*0.2)\n",
    "\n",
    "    k_rank = sorted(scores, reverse=True).index(scores[k-1])\n",
    "    print(f'#{t} {grade_list[int(k_rank/N*10)]}')"
   ]
  },
  {
   "cell_type": "markdown",
   "metadata": {},
   "source": [
    "### 1984. 중간 평균값 구하기"
   ]
  },
  {
   "cell_type": "code",
   "execution_count": null,
   "metadata": {},
   "outputs": [],
   "source": [
    "T = int(input())\n",
    "\n",
    "for t in range(1, T+1):\n",
    "    lst = list(map(int, input().split()))\n",
    "    max_num = lst[0]\n",
    "    min_num = lst[0]\n",
    "    for x in lst :\n",
    "        if x>max_num:\n",
    "            max_num = x\n",
    "        if x<min_num:\n",
    "            min_num = x\n",
    "        \n",
    "    lst.remove(max_num)\n",
    "    lst.remove(min_num)\n",
    "    \n",
    "    avg = 0\n",
    "    for x in lst :\n",
    "        avg += x \n",
    "    avg /= len(lst)\n",
    "    \n",
    "    print(\"#{} {}\".format(t, round(avg)))"
   ]
  },
  {
   "cell_type": "code",
   "execution_count": null,
   "metadata": {},
   "outputs": [],
   "source": []
  }
 ],
 "metadata": {
  "kernelspec": {
   "display_name": "Python 3",
   "language": "python",
   "name": "python3"
  },
  "language_info": {
   "codemirror_mode": {
    "name": "ipython",
    "version": 3
   },
   "file_extension": ".py",
   "mimetype": "text/x-python",
   "name": "python",
   "nbconvert_exporter": "python",
   "pygments_lexer": "ipython3",
   "version": "3.7.7"
  }
 },
 "nbformat": 4,
 "nbformat_minor": 4
}
